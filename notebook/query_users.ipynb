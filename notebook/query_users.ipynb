{
 "cells": [
  {
   "cell_type": "code",
   "execution_count": 39,
   "id": "17970d1b",
   "metadata": {},
   "outputs": [],
   "source": [
    "import os\n",
    "import json\n",
    "import datetime\n",
    "import time\n",
    "\n",
    "from dateutil import parser\n",
    "import glob\n",
    "import json\n",
    "from dataclasses import dataclass, field\n",
    "from dacite import from_dict, Config\n",
    "\n",
    "CREDENTIALS_FILE = \"./creds.txt\"\n",
    "USERDIR = \"datasets/users\"\n",
    "QUERY_RESULTS = \"queried_users.jsonl\"\n",
    "TWEET_QUERY_RESULTS = \"queried_users_tweets.jsonl\"\n",
    "MAX_USERS = 5000\n",
    "CONTROL = True\n",
    "\n",
    "if CONTROL:\n",
    "    USERDIR = f\"{USERDIR}-control\"\n",
    "    QUERY_RESULTS = f\"control_{QUERY_RESULTS}\"\n",
    "    TWEET_QUERY_RESULTS = f\"control_{TWEET_QUERY_RESULTS}\"\n",
    "# TT_hongkong.nd json\n",
    "# First Tweet retrieved Friday, August 9, 2019 8:33:46 PM EST\n",
    "# Result_type: recent"
   ]
  },
  {
   "cell_type": "code",
   "execution_count": 40,
   "id": "1d556013",
   "metadata": {},
   "outputs": [],
   "source": [
    "@dataclass\n",
    "class Tweet:\n",
    "    id: int\n",
    "    text: str\n",
    "    created_at: str\n",
    "    lang: str\n",
    "    source: str\n",
    "    retweeted: bool\n",
    "\n",
    "@dataclass\n",
    "class User:\n",
    "    id: int\n",
    "    screen_name: str\n",
    "    name: str\n",
    "    description: str\n",
    "    location: str\n",
    "    tweets: list[Tweet] = field(default_factory=list)"
   ]
  },
  {
   "cell_type": "code",
   "execution_count": 41,
   "id": "a7c03e90",
   "metadata": {},
   "outputs": [],
   "source": [
    "# Load all files in USERDIR and read user objects\n",
    "users = {}\n",
    "tweets = set([])\n",
    "for filename in glob.glob(f\"{USERDIR}/*\"):\n",
    "    with open(filename, \"r\") as f:\n",
    "        for line in f:\n",
    "            userdata = from_dict(data_class=User, data=json.loads(line.strip()))\n",
    "            if userdata.id not in users:\n",
    "                users[userdata.id] = userdata\n",
    "            else:\n",
    "                users[userdata.id].tweets += userdata.tweets\n",
    "            tweets.update([tweet.id for tweet in userdata.tweets])"
   ]
  },
  {
   "cell_type": "markdown",
   "id": "db2b8da1",
   "metadata": {},
   "source": [
    "# Twitter API"
   ]
  },
  {
   "cell_type": "code",
   "execution_count": 42,
   "id": "c034a1ed",
   "metadata": {},
   "outputs": [],
   "source": [
    "# Load Twitter API OAuth and other details\n",
    "\n",
    "from TwitterAPI import TwitterAPI, TwitterOAuth\n",
    "\n",
    "o = TwitterOAuth.read_file(CREDENTIALS_FILE)\n",
    "api = TwitterAPI(o.consumer_key, o.consumer_secret, o.access_token_key, o.access_token_secret, api_version=\"2\")\n",
    "\n",
    "\n",
    "\n",
    "def batch(l, n):\n",
    "    for i in range(0, len(l), n):\n",
    "        yield l[i:i+n]"
   ]
  },
  {
   "cell_type": "markdown",
   "id": "c49ee90e",
   "metadata": {},
   "source": [
    "## Tweet Queries\n",
    "\n",
    "Here, we batch-query Tweet IDs to see if they still exist. We skip Tweet IDs for which we know the Tweeter either has a protected or non-existent account."
   ]
  },
  {
   "cell_type": "code",
   "execution_count": 49,
   "id": "8f494241",
   "metadata": {},
   "outputs": [
    {
     "name": "stdout",
     "output_type": "stream",
     "text": [
      "0\n"
     ]
    }
   ],
   "source": [
    "# Make sure we don't repeat queries to IDs we have already queried Twitter's API for!\n",
    "if os.path.exists(TWEET_QUERY_RESULTS):\n",
    "    with open(TWEET_QUERY_RESULTS, \"r\") as f:\n",
    "        for line in f:\n",
    "            line = line.strip()\n",
    "            id = json.loads(line)[\"id\"]\n",
    "            if id in tweets:\n",
    "                tweets.remove(id)\n",
    "# Don't query tweets w/ deleted or protected users\n",
    "if os.path.exists(QUERY_RESULTS):\n",
    "    with open(QUERY_RESULTS, \"r\") as f:\n",
    "        for line in f:\n",
    "            datum = json.loads(line.strip())\n",
    "            id = datum[\"id\"]\n",
    "            if id not in users:\n",
    "                continue\n",
    "            if not datum[\"found\"] or datum[\"protected\"]:\n",
    "                for tweet in users[id].tweets:\n",
    "                    if tweet.id in tweets:\n",
    "                        tweets.remove(tweet.id)\n",
    "print(len(tweets))"
   ]
  },
  {
   "cell_type": "code",
   "execution_count": 44,
   "id": "40a8761e",
   "metadata": {},
   "outputs": [
    {
     "name": "stdout",
     "output_type": "stream",
     "text": [
      "589\n",
      "588\n",
      "587\n",
      "586\n",
      "585\n",
      "584\n",
      "583\n",
      "582\n",
      "581\n",
      "580\n",
      "579\n",
      "578\n",
      "577\n",
      "576\n",
      "575\n",
      "574\n",
      "573\n",
      "572\n",
      "571\n",
      "570\n",
      "569\n",
      "568\n",
      "567\n",
      "566\n",
      "565\n",
      "564\n",
      "563\n",
      "562\n",
      "561\n",
      "560\n"
     ]
    }
   ],
   "source": [
    "tweet_responses = {}\n",
    "for batch_tweets in batch(list(tweets), 100):\n",
    "    ids = \",\".join([str(twt_id) for twt_id in batch_tweets])\n",
    "    params = {\n",
    "        \"ids\": ids,\n",
    "        \"tweet.fields\": \"id,author_id,withheld\"\n",
    "    }\n",
    "    r = api.request(f\"tweets\", params)\n",
    "    for item in r:\n",
    "        item[\"queried_time\"] = str(datetime.datetime.now())\n",
    "        item[\"found\"] = True\n",
    "        tweet_responses[int(item[\"id\"])] = item\n",
    "    for twt_id in batch_tweets:\n",
    "        if twt_id not in tweet_responses:\n",
    "            tweet_responses[twt_id] = {\"found\": False, \"queried_time\": str(datetime.datetime.now())}\n",
    "    if r.get_quota()[\"remaining\"] < 1:\n",
    "        print(\"Ran into quota, exiting for now\")\n",
    "    print(r.get_quota()[\"remaining\"])\n"
   ]
  },
  {
   "cell_type": "code",
   "execution_count": 46,
   "id": "bc9cff8b",
   "metadata": {},
   "outputs": [],
   "source": [
    "with open(TWEET_QUERY_RESULTS, \"a\") as f:\n",
    "    for tweet, response in tweet_responses.items():\n",
    "        response[\"id\"] = tweet\n",
    "        json.dump(response, f)\n",
    "        f.write(\"\\n\")"
   ]
  },
  {
   "cell_type": "markdown",
   "id": "cd07c09d",
   "metadata": {},
   "source": [
    "## User Queries\n",
    "\n",
    "Here, we batch-query Tweet IDs to see if they still exist. We skip Tweet IDs for which we know the Tweeter either has a protected or non-existent account."
   ]
  },
  {
   "cell_type": "code",
   "execution_count": 7,
   "id": "5f025759",
   "metadata": {},
   "outputs": [
    {
     "ename": "TypeError",
     "evalue": "'User' object is not subscriptable",
     "output_type": "error",
     "traceback": [
      "\u001b[0;31m---------------------------------------------------------------------------\u001b[0m",
      "\u001b[0;31mTypeError\u001b[0m                                 Traceback (most recent call last)",
      "\u001b[0;32m/var/folders/7m/46jyljz124v8_cyr2_dkqcxh0000gn/T/ipykernel_74842/4287470586.py\u001b[0m in \u001b[0;36m<module>\u001b[0;34m\u001b[0m\n\u001b[1;32m      6\u001b[0m             \u001b[0mid\u001b[0m \u001b[0;34m=\u001b[0m \u001b[0mjson\u001b[0m\u001b[0;34m.\u001b[0m\u001b[0mloads\u001b[0m\u001b[0;34m(\u001b[0m\u001b[0mline\u001b[0m\u001b[0;34m)\u001b[0m\u001b[0;34m[\u001b[0m\u001b[0;34m\"id\"\u001b[0m\u001b[0;34m]\u001b[0m\u001b[0;34m\u001b[0m\u001b[0;34m\u001b[0m\u001b[0m\n\u001b[1;32m      7\u001b[0m             \u001b[0;32mif\u001b[0m \u001b[0mid\u001b[0m \u001b[0;32min\u001b[0m \u001b[0musers\u001b[0m\u001b[0;34m:\u001b[0m\u001b[0;34m\u001b[0m\u001b[0;34m\u001b[0m\u001b[0m\n\u001b[0;32m----> 8\u001b[0;31m                 \u001b[0;32mif\u001b[0m \u001b[0musers\u001b[0m\u001b[0;34m[\u001b[0m\u001b[0mid\u001b[0m\u001b[0;34m]\u001b[0m\u001b[0;34m[\u001b[0m\u001b[0;34m\"found\"\u001b[0m\u001b[0;34m]\u001b[0m \u001b[0;32mand\u001b[0m \u001b[0;34m\"tweets\"\u001b[0m \u001b[0;32min\u001b[0m \u001b[0musers\u001b[0m\u001b[0;34m[\u001b[0m\u001b[0mid\u001b[0m\u001b[0;34m]\u001b[0m\u001b[0;34m:\u001b[0m\u001b[0;34m\u001b[0m\u001b[0;34m\u001b[0m\u001b[0m\n\u001b[0m\u001b[1;32m      9\u001b[0m                     \u001b[0;32mdel\u001b[0m \u001b[0musers\u001b[0m\u001b[0;34m[\u001b[0m\u001b[0mid\u001b[0m\u001b[0;34m]\u001b[0m\u001b[0;34m\u001b[0m\u001b[0;34m\u001b[0m\u001b[0m\n",
      "\u001b[0;31mTypeError\u001b[0m: 'User' object is not subscriptable"
     ]
    }
   ],
   "source": [
    "# Make sure we don't repeat queries to IDs we have already queried Twitter's API for!\n",
    "if os.path.exists(QUERY_RESULTS):\n",
    "    with open(QUERY_RESULTS, \"r\") as f:\n",
    "        for line in f:\n",
    "            line = line.strip()\n",
    "            id = json.loads(line)[\"id\"]\n",
    "            if id in users:\n",
    "                del users[id]"
   ]
  },
  {
   "cell_type": "code",
   "execution_count": 32,
   "id": "716980d7",
   "metadata": {},
   "outputs": [
    {
     "name": "stdout",
     "output_type": "stream",
     "text": [
      "2090\n"
     ]
    }
   ],
   "source": [
    "# import random\n",
    "# choose_users = {}\n",
    "# if len(users) > 1000:\n",
    "#     chosen = random.sample(list(users.keys()), k=1000)\n",
    "#     users = {key: users[key] for key in chosen}\n",
    "print(len(users))"
   ]
  },
  {
   "cell_type": "code",
   "execution_count": 34,
   "id": "2f555a30",
   "metadata": {
    "scrolled": true
   },
   "outputs": [
    {
     "name": "stdout",
     "output_type": "stream",
     "text": [
      "{'remaining': 889, 'limit': None, 'reset': None}\n",
      "{'remaining': 888, 'limit': None, 'reset': None}\n",
      "{'remaining': 887, 'limit': None, 'reset': None}\n",
      "{'remaining': 886, 'limit': None, 'reset': None}\n",
      "{'remaining': 885, 'limit': None, 'reset': None}\n",
      "{'remaining': 884, 'limit': None, 'reset': None}\n",
      "{'remaining': 883, 'limit': None, 'reset': None}\n",
      "{'remaining': 882, 'limit': None, 'reset': None}\n",
      "{'remaining': 881, 'limit': None, 'reset': None}\n",
      "{'remaining': 880, 'limit': None, 'reset': None}\n",
      "{'remaining': 879, 'limit': None, 'reset': None}\n",
      "{'remaining': 878, 'limit': None, 'reset': None}\n",
      "{'remaining': 877, 'limit': None, 'reset': None}\n",
      "{'remaining': 876, 'limit': None, 'reset': None}\n",
      "{'remaining': 875, 'limit': None, 'reset': None}\n",
      "{'remaining': 874, 'limit': None, 'reset': None}\n",
      "{'remaining': 873, 'limit': None, 'reset': None}\n",
      "{'remaining': 872, 'limit': None, 'reset': None}\n",
      "{'remaining': 871, 'limit': None, 'reset': None}\n",
      "{'remaining': 870, 'limit': None, 'reset': None}\n",
      "{'remaining': 869, 'limit': None, 'reset': None}\n"
     ]
    }
   ],
   "source": [
    "\n",
    "# Send user queries to Twitter in batches of 100.\n",
    "\n",
    "userids = list(users.keys())\n",
    "user_responses = {}\n",
    "\n",
    "for id_batch in batch(userids, 100):\n",
    "    ids = \",\".join([str(id) for id in id_batch])\n",
    "    params = {\n",
    "        \"ids\": ids,\n",
    "        \"user.fields\": \"id,description,location,name,protected,verified,withheld,username\"\n",
    "    }\n",
    "    r = api.request(f\"users\", params)\n",
    "    for item in r:\n",
    "        user_responses[int(item[\"id\"])] = item\n",
    "    for id in id_batch:\n",
    "        if id not in user_responses:\n",
    "            user_responses[id] = \"Not found\"\n",
    "    print(r.get_quota())\n",
    "    time.sleep(1)\n"
   ]
  },
  {
   "cell_type": "code",
   "execution_count": 35,
   "id": "4105e98b",
   "metadata": {},
   "outputs": [],
   "source": [
    "# Append any new results to QUERY_RESULTS.\n",
    "\n",
    "with open(QUERY_RESULTS, \"a\") as f:\n",
    "    for user, response in user_responses.items():\n",
    "        if response == \"Not found\":\n",
    "            response = {\"found\": False}\n",
    "        else:\n",
    "            response[\"found\"] = True\n",
    "        response[\"id\"] = user\n",
    "        response[\"queried_time\"] = str(datetime.datetime.now())\n",
    "        json.dump(response, f)\n",
    "        f.write(\"\\n\")"
   ]
  },
  {
   "cell_type": "code",
   "execution_count": 46,
   "id": "d6429f65",
   "metadata": {},
   "outputs": [
    {
     "data": {
      "text/plain": [
       "'2021-12-20 22:59:14.417289'"
      ]
     },
     "execution_count": 46,
     "metadata": {},
     "output_type": "execute_result"
    }
   ],
   "source": []
  },
  {
   "cell_type": "code",
   "execution_count": null,
   "id": "d2f3c037",
   "metadata": {},
   "outputs": [],
   "source": []
  }
 ],
 "metadata": {
  "kernelspec": {
   "display_name": "wfenv",
   "language": "python",
   "name": "wfenv"
  },
  "language_info": {
   "codemirror_mode": {
    "name": "ipython",
    "version": 3
   },
   "file_extension": ".py",
   "mimetype": "text/x-python",
   "name": "python",
   "nbconvert_exporter": "python",
   "pygments_lexer": "ipython3",
   "version": "3.9.7"
  }
 },
 "nbformat": 4,
 "nbformat_minor": 5
}
