{
 "cells": [
  {
   "cell_type": "code",
   "execution_count": 1,
   "id": "941a8c95",
   "metadata": {},
   "outputs": [],
   "source": [
    "import pandas as pd\n",
    "from dacite import from_dict\n",
    "import json\n",
    "from dataclasses import dataclass, field\n",
    "from typing import Optional\n",
    "import os\n",
    "CONTROL = True"
   ]
  },
  {
   "cell_type": "code",
   "execution_count": 2,
   "id": "a1f9afa9",
   "metadata": {},
   "outputs": [
    {
     "name": "stdout",
     "output_type": "stream",
     "text": [
      "{\"created_at\": {\"id\": \"1457461928008159235\", \"author_id\": \"304482008\", \"text\": \"\\u4ee5\\u6c11\\u70ba\\u672c\\uff0c\\u52d9\\u5be6\\u9032\\u53d6\", \"created_at\": \"2021-11-07T21:36:16.000Z\"}\n",
      "\n",
      "\"2021-11-07T23:36:30.000Z\", \"text\": \"\\u4eba\\u6c11\\u624b\\u57f7\\u6b0a\\u529b\\uff01\\u5982\\u679c\\u63a8\\u5411\\u6975\\u7aef\\uff0c\\u9019\\u5c31\\u662f\\u6c11\\u4e3b\\u7684\\u610f\\u601d\", \"author_id\": \"304482008\", \"id\": \"1457492186002456581\"}\n",
      "\n",
      "{\"text\": \"RT @stopkookminpls: AREN'T THEY CUTEEEE https://t.co/9XYHTLZW5t\", \"author_id\": \"3565194079\", \"created_at\": \"2021-10-30T05:10:57.000Z\", \"id\"{\"created_at\": \"2021-10-30T05:08:39.000Z\", \"author_id\": \"3565194079\", \"id\": \"1454314282221404170\", \"text\": \"RT @Daily_JKUpdate: JUNGKOOK &amp; BAM! \\ud83d\\ude2d\\ud83d\\ude2d\\ud83d\\ude2d https://t.co/fplTSt4MGv\"}\n",
      "\n",
      ": \"1454314859575734273\"}\n",
      "\n"
     ]
    }
   ],
   "source": [
    "filename = \"timelines.json\"\n",
    "data = []\n",
    "ids = set()\n",
    "with open(filename, \"r\") as f:\n",
    "    count = 0\n",
    "    for line in f:\n",
    "        count += 1\n",
    "        try:\n",
    "            datum = json.loads(line.strip())\n",
    "        except Exception as e:\n",
    "            print(line)\n",
    "        if datum[\"id\"] in ids:\n",
    "            continue\n",
    "        ids.add(datum[\"id\"])\n",
    "        data.append(datum)\n",
    "tweets_df = pd.DataFrame(data)"
   ]
  },
  {
   "cell_type": "code",
   "execution_count": 3,
   "id": "c6f48eed",
   "metadata": {},
   "outputs": [],
   "source": [
    "tweets_df.to_pickle(\"timeline_tweets.pkl\")"
   ]
  },
  {
   "cell_type": "code",
   "execution_count": null,
   "id": "6bf8d4e2",
   "metadata": {},
   "outputs": [],
   "source": []
  }
 ],
 "metadata": {
  "kernelspec": {
   "display_name": "wfenv",
   "language": "python",
   "name": "wfenv"
  },
  "language_info": {
   "codemirror_mode": {
    "name": "ipython",
    "version": 3
   },
   "file_extension": ".py",
   "mimetype": "text/x-python",
   "name": "python",
   "nbconvert_exporter": "python",
   "pygments_lexer": "ipython3",
   "version": "3.9.7"
  }
 },
 "nbformat": 4,
 "nbformat_minor": 5
}
