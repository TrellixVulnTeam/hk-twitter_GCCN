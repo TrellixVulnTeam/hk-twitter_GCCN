{
 "cells": [
  {
   "cell_type": "code",
   "execution_count": 14,
   "id": "17970d1b",
   "metadata": {},
   "outputs": [],
   "source": [
    "import os\n",
    "import json\n",
    "import datetime\n",
    "from dateutil import parser\n",
    "import glob\n",
    "import json\n",
    "from dataclasses import dataclass, field\n",
    "from dacite import from_dict, Config\n",
    "\n",
    "CREDENTIALS_FILE = \"./creds.txt\"\n",
    "USERDIR = \"datasets/users\"\n",
    "QUERY_RESULTS = \"queried_users_ia.jsonl\"\n",
    "TWEET_QUERY_RESULTS = \"queried_users_tweets_ia.jsonl\"\n",
    "# control = True\n",
    "# if control:\n",
    "#     QUERY_RESULTS = \"control_\" + QUERY_RESULTS\n",
    "#     TWEET_QUERY_RESULTS = \"control_\" + TWEET_QUERY_RESULTS\n",
    "\n",
    "# TT_hongkong.nd json\n",
    "# First Tweet retrieved Friday, August 9, 2019 8:33:46 PM EST\n",
    "# Result_type: recent"
   ]
  },
  {
   "cell_type": "code",
   "execution_count": 5,
   "id": "1d556013",
   "metadata": {},
   "outputs": [],
   "source": [
    "@dataclass\n",
    "class Tweet:\n",
    "    id: int\n",
    "    text: str\n",
    "    created_at: str\n",
    "    lang: str\n",
    "    source: str\n",
    "    retweeted: bool\n",
    "\n",
    "@dataclass\n",
    "class User:\n",
    "    id: int\n",
    "    screen_name: str\n",
    "    name: str\n",
    "    description: str\n",
    "    location: str\n",
    "    tweets: list[Tweet] = field(default_factory=list)"
   ]
  },
  {
   "cell_type": "code",
   "execution_count": 19,
   "id": "5f025759",
   "metadata": {},
   "outputs": [
    {
     "name": "stdout",
     "output_type": "stream",
     "text": [
      "% Accounts deleted or protected since\n",
      "EXPERIMENT:\n",
      "0.22587570621468922\n",
      "CONTROL:\n",
      "0.1375538329026701\n"
     ]
    }
   ],
   "source": [
    "users = {}\n",
    "with open(QUERY_RESULTS, \"r\") as f:\n",
    "    for line in f:\n",
    "        line = line.strip()\n",
    "        data = json.loads(line)\n",
    "        users[data[\"id\"]] = data\n",
    "        \n",
    "users_control = {}\n",
    "with open(\"control_\" + QUERY_RESULTS, \"r\") as f:\n",
    "    for line in f:\n",
    "        line = line.strip()\n",
    "        data = json.loads(line)\n",
    "        users_control[data[\"id\"]] = data\n",
    "\n",
    "print(\"% Accounts deleted or protected since\")\n",
    "print(\"EXPERIMENT:\")\n",
    "print(1-sum([result[\"found\"] and not result[\"protected\"] for result in users.values()])/float(len(users)))\n",
    "print(\"CONTROL:\")\n",
    "print(1-sum([result[\"found\"] and not result[\"protected\"] for result in users_control.values()])/float(len(users_control)))"
   ]
  },
  {
   "cell_type": "code",
   "execution_count": 20,
   "id": "d6429f65",
   "metadata": {},
   "outputs": [
    {
     "name": "stdout",
     "output_type": "stream",
     "text": [
      "queried_users_tweets_ia.jsonl\n",
      "% Tweets of public users deleted since\n",
      "EXPERIMENT:\n",
      "0.1403954802259887\n",
      "CONTROL:\n",
      "0.09276485788113698\n"
     ]
    }
   ],
   "source": [
    "print(TWEET_QUERY_RESULTS)\n",
    "\n",
    "tweets = {}\n",
    "rts = 0\n",
    "with open(TWEET_QUERY_RESULTS, \"r\") as f:\n",
    "    for line in f:\n",
    "        line = line.strip()\n",
    "        data = json.loads(line)\n",
    "        if data[\"found\"] and data[\"text\"].startswith(\"RT @\"):\n",
    "            rts += 1\n",
    "            continue\n",
    "        tweets[data[\"id\"]] = data\n",
    "        \n",
    "rts_control = 0\n",
    "tweets_control = {}\n",
    "with open(\"control_\" + TWEET_QUERY_RESULTS, \"r\") as f:\n",
    "    for line in f:\n",
    "        line = line.strip()\n",
    "        data = json.loads(line)\n",
    "        if data[\"found\"] and data[\"text\"].startswith(\"RT @\"):\n",
    "            rts_control += 1\n",
    "            continue\n",
    "        tweets_control[data[\"id\"]] = data\n",
    "\n",
    "# TODO: CONTROL FOR DELETED RTS\n",
    "print(\"% Tweets of public users deleted since\")\n",
    "print(\"EXPERIMENT:\")\n",
    "print(1-sum([result[\"found\"] for result in users.values()])/float(len(users)))\n",
    "print(\"CONTROL:\")\n",
    "print(1-sum([result[\"found\"] for result in users_control.values()])/float(len(users_control)))\n",
    "\n",
    "# print(\"==============\")\n",
    "# print(\"% RTs that still exist today\")\n",
    "# print(\"EXPERIMENT:\")\n",
    "# print(rts / float(rts + len(tweets)))\n",
    "# print(\"CONTROL:\")\n",
    "# print(rts_control / float(rts_control + len(tweets)))"
   ]
  },
  {
   "cell_type": "code",
   "execution_count": null,
   "id": "d2f3c037",
   "metadata": {},
   "outputs": [],
   "source": []
  },
  {
   "cell_type": "code",
   "execution_count": null,
   "id": "c97c64c5",
   "metadata": {},
   "outputs": [],
   "source": []
  }
 ],
 "metadata": {
  "kernelspec": {
   "display_name": "wfenv",
   "language": "python",
   "name": "wfenv"
  },
  "language_info": {
   "codemirror_mode": {
    "name": "ipython",
    "version": 3
   },
   "file_extension": ".py",
   "mimetype": "text/x-python",
   "name": "python",
   "nbconvert_exporter": "python",
   "pygments_lexer": "ipython3",
   "version": "3.9.7"
  }
 },
 "nbformat": 4,
 "nbformat_minor": 5
}
