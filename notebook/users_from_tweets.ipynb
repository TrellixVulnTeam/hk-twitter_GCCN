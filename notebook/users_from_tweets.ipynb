{
 "cells": [
  {
   "cell_type": "code",
   "execution_count": 11,
   "id": "17970d1b",
   "metadata": {},
   "outputs": [],
   "source": [
    "import os\n",
    "import json\n",
    "import datetime\n",
    "from dateutil import parser\n",
    "from dataclasses import dataclass, field\n",
    "import dataclasses\n",
    "from TwitterAPI import TwitterAPI\n",
    "from dacite import from_dict, Config\n",
    "from typing import Optional\n",
    "\n",
    "CREDENTIALS_FILE = \"./creds.txt\"\n",
    "TWEETS_DIR_CONTROL = \"../datasets/tweets/ia/nyc\"\n",
    "TWEETS_DIR = \"../datasets/tweets/ia/hk\"\n",
    "OUTDIR = \"../datasets/users/ia\"\n",
    "OUT_FILENAME = f\"users.json\"\n",
    "CONTROL = False\n",
    "\n",
    "if CONTROL:\n",
    "    OUTDIR = f\"{OUTDIR}/control\"\n",
    "    TWEETS_DIR = TWEETS_DIR_CONTROL\n",
    "\n",
    "# TT_hongkong.nd json\n",
    "# First Tweet retrieved Friday, August 9, 2019 8:33:46 PM EST\n",
    "# Result_type: recent\n",
    "OUTFILE = os.path.join(OUTDIR, OUT_FILENAME)"
   ]
  },
  {
   "cell_type": "code",
   "execution_count": 12,
   "id": "1d556013",
   "metadata": {},
   "outputs": [],
   "source": [
    "@dataclass\n",
    "class Tweet:\n",
    "    id: int\n",
    "    text: str\n",
    "    created_at: datetime.datetime\n",
    "    lang: str\n",
    "    source: str\n",
    "    retweeted: bool\n",
    "\n",
    "@dataclass\n",
    "class User:\n",
    "    id: int\n",
    "    screen_name: str\n",
    "    name: str\n",
    "    description: Optional[str]\n",
    "    location: str\n",
    "    tweets: list[Tweet] = field(default_factory=list)"
   ]
  },
  {
   "cell_type": "code",
   "execution_count": 13,
   "id": "68169825",
   "metadata": {},
   "outputs": [],
   "source": [
    "import glob\n",
    "def all_lines(directory):\n",
    "    for file in glob.glob(directory + \"/*.json\"):\n",
    "        with open(file, \"r\") as f:\n",
    "            for line in f:\n",
    "                line = line.strip()\n",
    "                if \"REMOTE ARCHIVE NOT FOUND\" in line:\n",
    "                    break\n",
    "                yield line\n",
    "users = dict()\n",
    "for line in all_lines(TWEETS_DIR):\n",
    "    tweet = json.loads(line)\n",
    "    user = tweet[\"user\"]\n",
    "    if \"full_text\" in tweet:\n",
    "        tweet[\"text\"] = tweet[\"full_text\"]\n",
    "    tweet[\"created_at\"] = parser.parse(tweet[\"created_at\"])\n",
    "    if user[\"id\"] not in users:\n",
    "        users[user[\"id\"]] = from_dict(data_class=User, data=user)\n",
    "    users[user[\"id\"]].tweets.append(\n",
    "        from_dict(data_class=Tweet, data=tweet))\n"
   ]
  },
  {
   "cell_type": "code",
   "execution_count": 14,
   "id": "5f688bb3",
   "metadata": {},
   "outputs": [
    {
     "data": {
      "text/plain": [
       "35858"
      ]
     },
     "execution_count": 14,
     "metadata": {},
     "output_type": "execute_result"
    }
   ],
   "source": [
    "len(users)"
   ]
  },
  {
   "cell_type": "code",
   "execution_count": 15,
   "id": "d6429f65",
   "metadata": {},
   "outputs": [],
   "source": [
    "with open(OUTFILE, \"w+\") as f:\n",
    "    for user in users.values():\n",
    "        json.dump(dataclasses.asdict(user), f, default=str)\n",
    "        f.write(\"\\n\")"
   ]
  },
  {
   "cell_type": "code",
   "execution_count": 16,
   "id": "d2f3c037",
   "metadata": {},
   "outputs": [
    {
     "name": "stdout",
     "output_type": "stream",
     "text": [
      "35858\n",
      "../datasets/users/ia/users.json\n"
     ]
    }
   ],
   "source": [
    "print(len(users))\n",
    "print(OUTFILE)"
   ]
  },
  {
   "cell_type": "code",
   "execution_count": null,
   "id": "05008979",
   "metadata": {},
   "outputs": [],
   "source": []
  }
 ],
 "metadata": {
  "kernelspec": {
   "display_name": "wfenv",
   "language": "python",
   "name": "wfenv"
  },
  "language_info": {
   "codemirror_mode": {
    "name": "ipython",
    "version": 3
   },
   "file_extension": ".py",
   "mimetype": "text/x-python",
   "name": "python",
   "nbconvert_exporter": "python",
   "pygments_lexer": "ipython3",
   "version": "3.9.7"
  }
 },
 "nbformat": 4,
 "nbformat_minor": 5
}
