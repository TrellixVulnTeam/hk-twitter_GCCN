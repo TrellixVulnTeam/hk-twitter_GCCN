{
 "cells": [
  {
   "cell_type": "code",
   "execution_count": 18,
   "id": "17970d1b",
   "metadata": {},
   "outputs": [],
   "source": [
    "import os\n",
    "import json\n",
    "import datetime\n",
    "from dateutil import parser\n",
    "from dataclasses import dataclass, field\n",
    "import dataclasses\n",
    "from TwitterAPI import TwitterAPI\n",
    "from dacite import from_dict, Config\n",
    "from typing import Optional\n",
    "\n",
    "CREDENTIALS_FILE = \"./creds.txt\"\n",
    "TWEETS_DIR = \"../datasets/users-ia-control\"\n",
    "OUTDIR = \"../datasets/users-ia-control\"\n",
    "# CONTROL = True\n",
    "\n",
    "# if CONTROL:\n",
    "#     OUTDIR = f\"{OUTDIR}-control\"\n",
    "# TT_hongkong.nd json\n",
    "# First Tweet retrieved Friday, August 9, 2019 8:33:46 PM EST\n",
    "# Result_type: recent\n",
    "OUTFILE = os.path.join(OUTDIR, f\"users-ia-control.json\")"
   ]
  },
  {
   "cell_type": "code",
   "execution_count": 19,
   "id": "1d556013",
   "metadata": {},
   "outputs": [],
   "source": [
    "@dataclass\n",
    "class Tweet:\n",
    "    id: int\n",
    "    text: str\n",
    "    created_at: datetime.datetime\n",
    "    lang: str\n",
    "    source: str\n",
    "    retweeted: bool\n",
    "\n",
    "@dataclass\n",
    "class User:\n",
    "    id: int\n",
    "    screen_name: str\n",
    "    name: str\n",
    "    description: Optional[str]\n",
    "    location: str\n",
    "    tweets: list[Tweet] = field(default_factory=list)"
   ]
  },
  {
   "cell_type": "code",
   "execution_count": 20,
   "id": "68169825",
   "metadata": {},
   "outputs": [],
   "source": [
    "import glob\n",
    "def all_lines(directory):\n",
    "    for file in glob.glob(directory + \"/*.json\"):\n",
    "        with open(file, \"r\") as f:\n",
    "            for line in f:\n",
    "                line = line.strip()\n",
    "                if \"REMOTE ARCHIVE NOT FOUND\" in line:\n",
    "                    break\n",
    "                yield line\n",
    "users = dict()\n",
    "for line in all_lines(TWEETS_DIR):\n",
    "    tweet = json.loads(line)\n",
    "    user = tweet[\"user\"]\n",
    "    if \"full_text\" in tweet:\n",
    "        tweet[\"text\"] = tweet[\"full_text\"]\n",
    "    tweet[\"created_at\"] = parser.parse(tweet[\"created_at\"])\n",
    "    if user[\"id\"] not in users:\n",
    "        users[user[\"id\"]] = from_dict(data_class=User, data=user)\n",
    "    users[user[\"id\"]].tweets.append(\n",
    "        from_dict(data_class=Tweet, data=tweet))\n"
   ]
  },
  {
   "cell_type": "code",
   "execution_count": 21,
   "id": "5f688bb3",
   "metadata": {},
   "outputs": [
    {
     "data": {
      "text/plain": [
       "11610"
      ]
     },
     "execution_count": 21,
     "metadata": {},
     "output_type": "execute_result"
    }
   ],
   "source": [
    "len(users)"
   ]
  },
  {
   "cell_type": "code",
   "execution_count": 15,
   "id": "c034a1ed",
   "metadata": {},
   "outputs": [
    {
     "ename": "NameError",
     "evalue": "name 'PUSHSHIFT_DIR' is not defined",
     "output_type": "error",
     "traceback": [
      "\u001b[0;31m---------------------------------------------------------------------------\u001b[0m",
      "\u001b[0;31mNameError\u001b[0m                                 Traceback (most recent call last)",
      "\u001b[0;32m/var/folders/7m/46jyljz124v8_cyr2_dkqcxh0000gn/T/ipykernel_92730/2641244589.py\u001b[0m in \u001b[0;36m<module>\u001b[0;34m\u001b[0m\n\u001b[1;32m      1\u001b[0m \u001b[0mconfig\u001b[0m\u001b[0;34m=\u001b[0m\u001b[0mConfig\u001b[0m\u001b[0;34m(\u001b[0m\u001b[0;34m)\u001b[0m\u001b[0;34m\u001b[0m\u001b[0;34m\u001b[0m\u001b[0m\n\u001b[1;32m      2\u001b[0m \u001b[0musers\u001b[0m \u001b[0;34m=\u001b[0m \u001b[0mdict\u001b[0m\u001b[0;34m(\u001b[0m\u001b[0;34m)\u001b[0m\u001b[0;34m\u001b[0m\u001b[0;34m\u001b[0m\u001b[0m\n\u001b[0;32m----> 3\u001b[0;31m \u001b[0;32mwith\u001b[0m \u001b[0mopen\u001b[0m\u001b[0;34m(\u001b[0m\u001b[0mos\u001b[0m\u001b[0;34m.\u001b[0m\u001b[0mpath\u001b[0m\u001b[0;34m.\u001b[0m\u001b[0mjoin\u001b[0m\u001b[0;34m(\u001b[0m\u001b[0mPUSHSHIFT_DIR\u001b[0m\u001b[0;34m,\u001b[0m  \u001b[0mFILENAME\u001b[0m\u001b[0;34m)\u001b[0m\u001b[0;34m,\u001b[0m \u001b[0;34m\"r\"\u001b[0m\u001b[0;34m)\u001b[0m \u001b[0;32mas\u001b[0m \u001b[0mf\u001b[0m\u001b[0;34m:\u001b[0m\u001b[0;34m\u001b[0m\u001b[0;34m\u001b[0m\u001b[0m\n\u001b[0m\u001b[1;32m      4\u001b[0m     \u001b[0mi\u001b[0m \u001b[0;34m=\u001b[0m \u001b[0;36m0\u001b[0m\u001b[0;34m\u001b[0m\u001b[0;34m\u001b[0m\u001b[0m\n\u001b[1;32m      5\u001b[0m     \u001b[0;32mfor\u001b[0m \u001b[0mline\u001b[0m \u001b[0;32min\u001b[0m \u001b[0mf\u001b[0m\u001b[0;34m:\u001b[0m\u001b[0;34m\u001b[0m\u001b[0;34m\u001b[0m\u001b[0m\n",
      "\u001b[0;31mNameError\u001b[0m: name 'PUSHSHIFT_DIR' is not defined"
     ]
    }
   ],
   "source": [
    "config=Config()\n",
    "users = dict()\n",
    "with open(os.path.join(PUSHSHIFT_DIR,  FILENAME), \"r\") as f:\n",
    "    i = 0\n",
    "    for line in f:\n",
    "        tweet = json.loads(line)\n",
    "        user = tweet[\"user\"]\n",
    "        if \"full_text\" in tweet:\n",
    "            tweet[\"text\"] = tweet[\"full_text\"]\n",
    "        tweet[\"created_at\"] = parser.parse(tweet[\"created_at\"])\n",
    "        if user[\"id\"] not in users:\n",
    "            users[user[\"id\"]] = from_dict(data_class=User, data=user)\n",
    "        users[user[\"id\"]].tweets.append(\n",
    "            from_dict(data_class=Tweet, data=tweet))"
   ]
  },
  {
   "cell_type": "code",
   "execution_count": 33,
   "id": "2f555a30",
   "metadata": {
    "scrolled": true
   },
   "outputs": [],
   "source": [
    "def hk_in_profile(user):\n",
    "    if not user.location:\n",
    "        return False\n",
    "    keywords = [ \"hongkong\", \"hong kong\", \"hk\", \"🇭🇰\", \"香港\" ]\n",
    "    for keyword in keywords:\n",
    "        if keyword.lower() in user.location.lower():\n",
    "            return True\n",
    "    return False\n",
    "\n",
    "def newyork_in_profile(user):\n",
    "    if not user.location:\n",
    "        return False\n",
    "    keywords = [ \"new york\", \"nyc\" ]\n",
    "    for keyword in keywords:\n",
    "        if keyword.lower() in user.location.lower():\n",
    "            return True\n",
    "    return False\n",
    "\n",
    "import hanzidentifier\n",
    "def contains_trad_chinese(s):\n",
    "    return hanzidentifier.identify(s) == hanzidentifier.TRADITIONAL\n",
    "    \n",
    "def tweets_in_trad_chinese(user):\n",
    "    return any(filter(lambda tw: tw.lang == \"zh\" and contains_trad_chinese(tw.text), user.tweets))"
   ]
  },
  {
   "cell_type": "code",
   "execution_count": 28,
   "id": "2408b43c",
   "metadata": {},
   "outputs": [
    {
     "data": {
      "text/plain": [
       "1953"
      ]
     },
     "execution_count": 28,
     "metadata": {},
     "output_type": "execute_result"
    }
   ],
   "source": [
    "# users = list(filter(newyork_in_profile, users))\n",
    "# len(users)"
   ]
  },
  {
   "cell_type": "code",
   "execution_count": 29,
   "id": "4105e98b",
   "metadata": {},
   "outputs": [
    {
     "ename": "NameError",
     "evalue": "name 'hk_in_profile' is not defined",
     "output_type": "error",
     "traceback": [
      "\u001b[0;31m---------------------------------------------------------------------------\u001b[0m",
      "\u001b[0;31mNameError\u001b[0m                                 Traceback (most recent call last)",
      "\u001b[0;32m/var/folders/7m/46jyljz124v8_cyr2_dkqcxh0000gn/T/ipykernel_73033/3805987546.py\u001b[0m in \u001b[0;36m<module>\u001b[0;34m\u001b[0m\n\u001b[1;32m      2\u001b[0m \u001b[0;32mimport\u001b[0m \u001b[0mjson\u001b[0m\u001b[0;34m\u001b[0m\u001b[0;34m\u001b[0m\u001b[0m\n\u001b[1;32m      3\u001b[0m \u001b[0mcontrol_filter_fn\u001b[0m \u001b[0;34m=\u001b[0m \u001b[0;32mlambda\u001b[0m \u001b[0mx\u001b[0m\u001b[0;34m:\u001b[0m \u001b[0;32mnot\u001b[0m \u001b[0mhk_in_profile\u001b[0m\u001b[0;34m(\u001b[0m\u001b[0mx\u001b[0m\u001b[0;34m)\u001b[0m \u001b[0;32mand\u001b[0m \u001b[0mlen\u001b[0m\u001b[0;34m(\u001b[0m\u001b[0mx\u001b[0m\u001b[0;34m.\u001b[0m\u001b[0mlocation\u001b[0m\u001b[0;34m)\u001b[0m \u001b[0;34m>\u001b[0m \u001b[0;36m0\u001b[0m\u001b[0;34m\u001b[0m\u001b[0;34m\u001b[0m\u001b[0m\n\u001b[0;32m----> 4\u001b[0;31m \u001b[0mexp_filter_fn\u001b[0m \u001b[0;34m=\u001b[0m \u001b[0mhk_in_profile\u001b[0m\u001b[0;34m\u001b[0m\u001b[0;34m\u001b[0m\u001b[0m\n\u001b[0m\u001b[1;32m      5\u001b[0m \u001b[0mfilter_fn\u001b[0m \u001b[0;34m=\u001b[0m \u001b[0mexp_filter_fn\u001b[0m\u001b[0;34m\u001b[0m\u001b[0;34m\u001b[0m\u001b[0m\n\u001b[1;32m      6\u001b[0m \u001b[0;32mif\u001b[0m \u001b[0mCONTROL\u001b[0m\u001b[0;34m:\u001b[0m\u001b[0;34m\u001b[0m\u001b[0;34m\u001b[0m\u001b[0m\n",
      "\u001b[0;31mNameError\u001b[0m: name 'hk_in_profile' is not defined"
     ]
    }
   ],
   "source": [
    "import dataclasses\n",
    "import json\n",
    "control_filter_fn = lambda x: not hk_in_profile(x) and len(x.location) > 0\n",
    "exp_filter_fn = hk_in_profile\n",
    "filter_fn = exp_filter_fn\n",
    "if CONTROL:\n",
    "    filter_fn = newyork_in_profile\n",
    "users = list(filter(filter_fn, users.values()))\n"
   ]
  },
  {
   "cell_type": "code",
   "execution_count": 22,
   "id": "d6429f65",
   "metadata": {},
   "outputs": [],
   "source": [
    "\n",
    "with open(OUTFILE, \"w+\") as f:\n",
    "    for user in users.values():\n",
    "        json.dump(dataclasses.asdict(user), f, default=str)\n",
    "        f.write(\"\\n\")"
   ]
  },
  {
   "cell_type": "code",
   "execution_count": 26,
   "id": "d2f3c037",
   "metadata": {},
   "outputs": [
    {
     "name": "stdout",
     "output_type": "stream",
     "text": [
      "11610\n",
      "../datasets/users-ia-control/users-ia-control.json\n"
     ]
    }
   ],
   "source": [
    "print(len(users))\n",
    "print(OUTFILE)"
   ]
  },
  {
   "cell_type": "code",
   "execution_count": 17,
   "id": "253488a2",
   "metadata": {},
   "outputs": [
    {
     "data": {
      "text/plain": [
       "[User(id=994785137190735877, screen_name='Sassarella2', name='Shannon', description='Truth seeker. 🔎 Knowledge junkie.💡Lover of humor. 🤣 #MAGA #KAG 🇺🇸🐘📜 #TRUMP2020', location='Manhattan, NY', tweets=[Tweet(id=1156549414116384769, text='RT @alessabocchi: Hong Kong protestors are on another level. Here they’re using lasers to avoid facial recognition cameras. A cyber war aga…', created_at=datetime.datetime(2019, 7, 31, 12, 57, 22, tzinfo=tzutc()), lang='en', source='<a href=\"http://twitter.com/download/iphone\" rel=\"nofollow\">Twitter for iPhone</a>', retweeted=False)]),\n",
       " User(id=71099184, screen_name='teresa472002', name='Teresa Laubinger', description='\"Many people would be scared if they saw in the mirror, not their own faces, but their CHARACTER.\"  #TRUMP Politics, Criminal Psych, Criminology poetry', location='Wisconsin', tweets=[Tweet(id=1156549420873334784, text='RT @PoliticalKathy: I support peace everywhere, whether that is in black communities, white communities, Hong Kong, or anywhere else. \\n\\nTar…', created_at=datetime.datetime(2019, 7, 31, 12, 57, 24, tzinfo=tzutc()), lang='en', source='<a href=\"https://mobile.twitter.com\" rel=\"nofollow\">Twitter Web App</a>', retweeted=False)]),\n",
       " User(id=4781710867, screen_name='CathArrago', name='cath arrago', description=\"I'm observant and I hate shits around this corner\", location='Quezon City, National Capital ', tweets=[Tweet(id=1156549442457096192, text='RT @KaDreamersWorld: Thank you so much to our KaDs family and friends for your generosity in helping make this Blockscreening possible. Tha…', created_at=datetime.datetime(2019, 7, 31, 12, 57, 29, tzinfo=tzutc()), lang='en', source='<a href=\"http://twitter.com/download/android\" rel=\"nofollow\">Twitter for Android</a>', retweeted=False), Tweet(id=1157309225955024896, text=\"RT @StarCinema: A story about this generation's OFWs in Hong Kong... Watch #HelloLoveGoodbye in your favorite cinema today! ❤️ #HelloLoveSu…\", created_at=datetime.datetime(2019, 8, 2, 15, 16, 35, tzinfo=tzutc()), lang='en', source='<a href=\"http://twitter.com/download/android\" rel=\"nofollow\">Twitter for Android</a>', retweeted=False)]),\n",
       " User(id=148170859, screen_name='takasan_7', name='たかさん', description='ぼちぼち、つぶやいていきます。', location='福井', tweets=[Tweet(id=1156549590356594688, text='RT @japanavi: 台湾から【デモ参加者へのヘルメット提供、1000個超 香港留学生が感謝／台湾】\\n…高雄市内で不要なヘルメットの提供を募った活動で、目標としていた500個の2倍以上となる1000個超が集まった。10万台湾元（約35万円）を超える現金の寄付も寄せ…\\nht…', created_at=datetime.datetime(2019, 7, 31, 12, 58, 4, tzinfo=tzutc()), lang='ja', source='<a href=\"http://twitter.com/download/iphone\" rel=\"nofollow\">Twitter for iPhone</a>', retweeted=False), Tweet(id=1156996472493072389, text='RT @Kisaragimukuro: 香港と中国深圳の少年アイスホッケー練習試合が終わった頃、深圳チームの人達が突如香港チームの選手に襲い掛かって、香港チームの選手が殴られだけだった\\n#香港デモ\\n #FreedomHK \\n#antiELAB https://t.co/bSlg…', created_at=datetime.datetime(2019, 8, 1, 18, 33, 49, tzinfo=tzutc()), lang='ja', source='<a href=\"http://twitter.com/download/iphone\" rel=\"nofollow\">Twitter for iPhone</a>', retweeted=False), Tweet(id=1157518696811622400, text='RT @japanavi: 4万人の公務員が参加した香港政府への抗議集会。開催前夜に政府が「公務員は行政長官及び政府に忠誠を尽くさなくてはならない」と集会への参加を牽制した事について、2000年代初期に公務員事務局局長だった王永平さんが会場でスピーチ\\n『皆さんは”政治的中立”に…', created_at=datetime.datetime(2019, 8, 3, 5, 8, 57, tzinfo=tzutc()), lang='ja', source='<a href=\"http://twitter.com/download/iphone\" rel=\"nofollow\">Twitter for iPhone</a>', retweeted=False)]),\n",
       " User(id=72165903, screen_name='welittlefreaks', name='tequila', description='Queria ser normal', location='Recife', tweets=[Tweet(id=1156549692597112834, text=\"RT @aletweetsnews: These lasers Hong Kong protesters are pointing at riot police through billowing tear gas, it's like something out of a s…\", created_at=datetime.datetime(2019, 7, 31, 12, 58, 29, tzinfo=tzutc()), lang='en', source='<a href=\"https://mobile.twitter.com\" rel=\"nofollow\">Twitter Web App</a>', retweeted=False)]),\n",
       " User(id=3436987944, screen_name='EggBoy4eva', name='💧Tamsyn Blythe', description='Kid of the 1970s. We all have a voice, time to use it. Compassion & empathy are strengths. Nobody’s free until everybody’s free. 🌙☪️', location='Sydney, New South Wales', tweets=[Tweet(id=1156550006330945538, text='RT @damon_pang: WATCH: #RTHK has made a documentary on the indiscriminate attacks on people in #YuenLong after #721protests, showing that o…', created_at=datetime.datetime(2019, 7, 31, 12, 59, 43, tzinfo=tzutc()), lang='en', source='<a href=\"http://twitter.com/download/iphone\" rel=\"nofollow\">Twitter for iPhone</a>', retweeted=False), Tweet(id=1157225789789655041, text='RT @joshuawongcf: We should determine our own destiny instead of the HKers future being dominated by Beijing. When 2 million out of 7.5 mil…', created_at=datetime.datetime(2019, 8, 2, 9, 45, 3, tzinfo=tzutc()), lang='en', source='<a href=\"http://twitter.com/download/iphone\" rel=\"nofollow\">Twitter for iPhone</a>', retweeted=False), Tweet(id=1157225823755108355, text='RT @joshuawongcf: I launched the @WhiteHouse Petition to urge US Gov suspend its export of crowd control equipment to Hong Kong Police Forc…', created_at=datetime.datetime(2019, 8, 2, 9, 45, 11, tzinfo=tzutc()), lang='en', source='<a href=\"http://twitter.com/download/iphone\" rel=\"nofollow\">Twitter for iPhone</a>', retweeted=False), Tweet(id=1157225876603330560, text='RT @joshuawongcf: [@FT Podcast World Weekly Podcast]\\n\\nThank you for @GideonRachman interviewing me to discuss on Hong Kong continuing prote…', created_at=datetime.datetime(2019, 8, 2, 9, 45, 23, tzinfo=tzutc()), lang='en', source='<a href=\"http://twitter.com/download/iphone\" rel=\"nofollow\">Twitter for iPhone</a>', retweeted=False), Tweet(id=1157225951089971200, text='RT @joshuawongcf: 13. All these weapons are imported from the United States. Given the innumerable proof of police brutality in recent prot…', created_at=datetime.datetime(2019, 8, 2, 9, 45, 41, tzinfo=tzutc()), lang='en', source='<a href=\"http://twitter.com/download/iphone\" rel=\"nofollow\">Twitter for iPhone</a>', retweeted=False), Tweet(id=1157225971105193984, text='RT @joshuawongcf: 14. The British government has already stopped licensing the arms export to Hong Kong. We therefore urge the US governmen…', created_at=datetime.datetime(2019, 8, 2, 9, 45, 46, tzinfo=tzutc()), lang='en', source='<a href=\"http://twitter.com/download/iphone\" rel=\"nofollow\">Twitter for iPhone</a>', retweeted=False), Tweet(id=1157225996145160192, text='RT @joshuawongcf: The Purge at Hong Kong. Sadly it’s not a movie. Our demands:\\n1. Withdrawal of Extradition Bills\\n2. Retraction of the char…', created_at=datetime.datetime(2019, 8, 2, 9, 45, 52, tzinfo=tzutc()), lang='en', source='<a href=\"http://twitter.com/download/iphone\" rel=\"nofollow\">Twitter for iPhone</a>', retweeted=False), Tweet(id=1157226760850685953, text='RT @joshuawongcf: [When a Mob Attacked Protesters in Hong Kong, the Police Walked Away]\\nAfter a violent mob attack in Hong Kong, protesters…', created_at=datetime.datetime(2019, 8, 2, 9, 48, 54, tzinfo=tzutc()), lang='en', source='<a href=\"http://twitter.com/download/iphone\" rel=\"nofollow\">Twitter for iPhone</a>', retweeted=False)]),\n",
       " User(id=2225488398, screen_name='CioffiDana', name='Dana Cioffi', description='', location='California, USA', tweets=[Tweet(id=1156550029567504384, text='RT @alessabocchi: Hong Kong protestors are on another level. Here they’re using lasers to avoid facial recognition cameras. A cyber war aga…', created_at=datetime.datetime(2019, 7, 31, 12, 59, 49, tzinfo=tzutc()), lang='en', source='<a href=\"http://twitter.com/download/iphone\" rel=\"nofollow\">Twitter for iPhone</a>', retweeted=False)]),\n",
       " User(id=1575138829, screen_name='RobProvince', name='EducatëdHillbilly™', description='Amiable Wingnut', location='Missouri, USA 🇺🇸', tweets=[Tweet(id=1156550307205341184, text='I bet Hong Kong is wishing it was back under white western imperial power right about now..... https://t.co/1hUYWirRhv', created_at=datetime.datetime(2019, 7, 31, 13, 0, 55, tzinfo=tzutc()), lang='en', source='<a href=\"http://twitter.com/download/iphone\" rel=\"nofollow\">Twitter for iPhone</a>', retweeted=False), Tweet(id=1157050041590341642, text=\"RT @ShootyMcBeard: Yeah, funny thing about demanding a right to arms; you already have it but if you don't have arms you'll have to fight a…\", created_at=datetime.datetime(2019, 8, 1, 22, 6, 41, tzinfo=tzutc()), lang='en', source='<a href=\"http://twitter.com/download/iphone\" rel=\"nofollow\">Twitter for iPhone</a>', retweeted=False)]),\n",
       " User(id=350685707, screen_name='EXSEOULOFFICIAL', name='EXSEOUL TH', description=\"SUPPORT EXO ❤️ EXO ONLY : OT9 | ไม่คีปเมน | Exseoul Cafe' | รับทำสติกเกอร์ | รีวิว #exseoulreview | อัพเดต #exseoulup | กิจกรรม #exseoulevent\", location='Saraburi,thailand', tweets=[Tweet(id=1156550391938441216, text='RT @hyuneexol04: Be careful to this account, she/he folded by pretending to be ticket seller, I have already pay to her HKD 7500$ for depos…', created_at=datetime.datetime(2019, 7, 31, 13, 1, 15, tzinfo=tzutc()), lang='en', source='<a href=\"http://twitter.com/download/iphone\" rel=\"nofollow\">Twitter for iPhone</a>', retweeted=False)]),\n",
       " User(id=1030969829103161345, screen_name='ThinkerModerate', name='Franklin Crespo-Adames', description='Some dude on twitter...', location='Florida', tweets=[Tweet(id=1156550405628813312, text='RT @Reuters: Hong Kong police officer waves gun at protesters. More here: https://t.co/Za2xnWGYlA https://t.co/7ec89Bmekh', created_at=datetime.datetime(2019, 7, 31, 13, 1, 19, tzinfo=tzutc()), lang='en', source='<a href=\"https://mobile.twitter.com\" rel=\"nofollow\">Twitter Web App</a>', retweeted=False)])]"
      ]
     },
     "metadata": {},
     "output_type": "display_data"
    }
   ],
   "source": []
  },
  {
   "cell_type": "code",
   "execution_count": null,
   "id": "d004a9f9",
   "metadata": {},
   "outputs": [],
   "source": []
  }
 ],
 "metadata": {
  "kernelspec": {
   "display_name": "wfenv",
   "language": "python",
   "name": "wfenv"
  },
  "language_info": {
   "codemirror_mode": {
    "name": "ipython",
    "version": 3
   },
   "file_extension": ".py",
   "mimetype": "text/x-python",
   "name": "python",
   "nbconvert_exporter": "python",
   "pygments_lexer": "ipython3",
   "version": "3.9.7"
  }
 },
 "nbformat": 4,
 "nbformat_minor": 5
}
